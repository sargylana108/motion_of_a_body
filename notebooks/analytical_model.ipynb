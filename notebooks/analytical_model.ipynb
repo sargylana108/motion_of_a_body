{
 "cells": [
  {
   "cell_type": "markdown",
   "id": "76d9b1c7-375a-4b70-af0b-ac6c61c35293",
   "metadata": {},
   "source": [
    "# Аналитическая модель без учёта сопротивления воздуха"
   ]
  },
  {
   "cell_type": "code",
   "execution_count": 4,
   "id": "3a39c477-6c05-449d-9909-0684ce361296",
   "metadata": {},
   "outputs": [
    {
     "data": {
      "application/vnd.jupyter.widget-view+json": {
       "model_id": "11dc3e4df36c4204822ae7df16843f4f",
       "version_major": 2,
       "version_minor": 0
      },
      "text/plain": [
       "interactive(children=(FloatSlider(value=50.0, description='v0', max=300.0, min=1.0, step=1.0), FloatSlider(val…"
      ]
     },
     "metadata": {},
     "output_type": "display_data"
    },
    {
     "data": {
      "text/plain": [
       "<function __main__.plot_trajectory(v0, angle)>"
      ]
     },
     "execution_count": 4,
     "metadata": {},
     "output_type": "execute_result"
    }
   ],
   "source": [
    "import numpy as np\n",
    "import matplotlib.pyplot as plt\n",
    "from ipywidgets import interact, FloatSlider\n",
    "\n",
    "g = 9.8  # Ускорение свободного падения\n",
    "\n",
    "def trajectory(v0, angle, t):\n",
    "    angle_rad = np.radians(angle)\n",
    "    x = v0 * t * np.cos(angle_rad)\n",
    "    y = v0 * t * np.sin(angle_rad) - 0.5 * g * t**2\n",
    "    return x, y\n",
    "\n",
    "def plot_trajectory(v0, angle):\n",
    "    t_max = 2 * v0 * np.sin(np.radians(angle)) / g  # Время полета\n",
    "    t = np.linspace(0, t_max, num=500)\n",
    "    x, y = trajectory(v0, angle, t)\n",
    "\n",
    "    plt.figure(figsize=(10, 5))\n",
    "    plt.plot(x, y)\n",
    "    plt.title(f'Траектория тела (v0 = {v0} м/с, угол = {angle}°)')\n",
    "    plt.xlabel('Дальность полёта (м)')\n",
    "    plt.ylabel('Высота подъёма (м)')\n",
    "    plt.ylim(bottom=0)\n",
    "    plt.grid(True)\n",
    "    plt.show()\n",
    "\n",
    "interact(plot_trajectory, \n",
    "         v0=FloatSlider(min=1, max=300, step=1, value=50),\n",
    "         angle=FloatSlider(min=10, max=80, step=1, value=45))"
   ]
  },
  {
   "cell_type": "code",
   "execution_count": null,
   "id": "37a533bb-a3e2-4069-ac50-509d4c05b194",
   "metadata": {},
   "outputs": [],
   "source": []
  }
 ],
 "metadata": {
  "kernelspec": {
   "display_name": "gpu",
   "language": "python",
   "name": "myenv"
  },
  "language_info": {
   "codemirror_mode": {
    "name": "ipython",
    "version": 3
   },
   "file_extension": ".py",
   "mimetype": "text/x-python",
   "name": "python",
   "nbconvert_exporter": "python",
   "pygments_lexer": "ipython3",
   "version": "3.9.18"
  }
 },
 "nbformat": 4,
 "nbformat_minor": 5
}
